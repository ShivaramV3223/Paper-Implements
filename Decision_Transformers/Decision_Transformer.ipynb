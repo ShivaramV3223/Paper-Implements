{
 "cells": [
  {
   "cell_type": "markdown",
   "id": "79f04786-8d3f-452d-a9e1-fe7c78fe1789",
   "metadata": {},
   "source": [
    "# Decision Transformer\n",
    "\n",
    "Consists of a Causal Attetion transformer with GPT architecture"
   ]
  },
  {
   "cell_type": "code",
   "execution_count": 1,
   "id": "2ab0de7b-bb4c-4ee0-bcf9-2e5c2848df3d",
   "metadata": {},
   "outputs": [
    {
     "name": "stderr",
     "output_type": "stream",
     "text": [
      "Warning: Flow failed to import. Set the environment variable D4RL_SUPPRESS_IMPORT_ERROR=1 to suppress this message.\n",
      "No module named 'flow'\n",
      "Warning: CARLA failed to import. Set the environment variable D4RL_SUPPRESS_IMPORT_ERROR=1 to suppress this message.\n",
      "No module named 'carla'\n",
      "pybullet build time: May 20 2022 19:44:17\n"
     ]
    }
   ],
   "source": [
    "#importing libraries\n",
    "import torch\n",
    "import numpy as np\n",
    "import gym\n",
    "import d4rl\n",
    "from Gpt import GPT,AttentionConfig"
   ]
  },
  {
   "cell_type": "markdown",
   "id": "7a11828b-7cf7-43de-b1d7-33e2c53c43de",
   "metadata": {},
   "source": [
    "## Setting up the Environment"
   ]
  },
  {
   "cell_type": "code",
   "execution_count": 2,
   "id": "949f0ac2-a9e7-47f6-9cf2-cfa226b10674",
   "metadata": {},
   "outputs": [
    {
     "name": "stderr",
     "output_type": "stream",
     "text": [
      "/home/shivaram/anaconda3/envs/mujoco_py/lib/python3.8/site-packages/gym/utils/seeding.py:38: DeprecationWarning: \u001b[33mWARN: Function `rng.randn(*size)` is marked as deprecated and will be removed in the future. Please use `rng.standard_normal(size)` instead.\u001b[0m\n",
      "  deprecation(\n"
     ]
    },
    {
     "data": {
      "text/plain": [
       "array([ 1.02509803,  1.07845732, -0.23868323,  0.30158625])"
      ]
     },
     "execution_count": 2,
     "metadata": {},
     "output_type": "execute_result"
    }
   ],
   "source": [
    "#Creating the environment\n",
    "env = gym.make(\"maze2d-umaze-v1\")\n",
    "env.reset()"
   ]
  },
  {
   "cell_type": "code",
   "execution_count": 3,
   "id": "8b0c29e5-9f5c-4473-8b78-d9fe9aeb2a6c",
   "metadata": {},
   "outputs": [
    {
     "name": "stdout",
     "output_type": "stream",
     "text": [
      "State Space Dimension:  (4,)\n",
      "Action Space:  (2,)\n"
     ]
    }
   ],
   "source": [
    "# Getting the details of environment\n",
    "print(\"State Space Dimension: \",env.observation_space.shape)\n",
    "print(\"Action Space: \", env.action_space.shape)"
   ]
  },
  {
   "cell_type": "markdown",
   "id": "2225a8a3-e331-4c8b-84fb-660b266df5d5",
   "metadata": {},
   "source": [
    "# Getting the Dataset"
   ]
  },
  {
   "cell_type": "code",
   "execution_count": 4,
   "id": "0048941f-a1af-45e0-9bfc-2a3752a63d97",
   "metadata": {},
   "outputs": [
    {
     "name": "stderr",
     "output_type": "stream",
     "text": [
      "load datafile: 100%|██████████████████████████████| 8/8 [00:00<00:00, 24.46it/s]\n"
     ]
    }
   ],
   "source": [
    "# Getting the dataset\n",
    "dataset = env.get_dataset()"
   ]
  },
  {
   "cell_type": "code",
   "execution_count": 5,
   "id": "7aca7e2b-02f2-4bbf-9ca2-7b1a8b6cbb35",
   "metadata": {},
   "outputs": [
    {
     "name": "stdout",
     "output_type": "stream",
     "text": [
      "dict_keys(['actions', 'infos/goal', 'infos/qpos', 'infos/qvel', 'observations', 'rewards', 'terminals', 'timeouts'])\n"
     ]
    }
   ],
   "source": [
    "print(dataset.keys())"
   ]
  },
  {
   "cell_type": "code",
   "execution_count": 6,
   "id": "c3dab330-2aa2-4270-a9da-d26aeae72e6c",
   "metadata": {},
   "outputs": [],
   "source": [
    "# Calculating timesteps\n",
    "t =  np.transpose(dataset['timeouts'].nonzero())\n",
    "t_ = np.roll(t, 1)\n",
    "t_[0] = 0\n",
    "timesteps = t - t_\n",
    "\n",
    "max_timestep = max(timesteps).item()"
   ]
  },
  {
   "cell_type": "code",
   "execution_count": 7,
   "id": "f327fb67-aa05-40af-abcb-4ebd7d4a7ce4",
   "metadata": {},
   "outputs": [
    {
     "name": "stdout",
     "output_type": "stream",
     "text": [
      "240 (12459, 1)\n"
     ]
    }
   ],
   "source": [
    "print(max_timestep, timesteps.shape)"
   ]
  },
  {
   "cell_type": "markdown",
   "id": "1f922c8d-3ebd-424c-8581-b17a137855c2",
   "metadata": {},
   "source": [
    "# GPT"
   ]
  },
  {
   "cell_type": "code",
   "execution_count": 8,
   "id": "bd2e7a78-46c5-45f2-8523-849edbbf855e",
   "metadata": {},
   "outputs": [],
   "source": [
    "#configuring the GPT model\n",
    "config = AttentionConfig(block_size = 64, vocab_size = 2, model_type = 'reward_conditioned', max_timestep = max_timestep)"
   ]
  },
  {
   "cell_type": "code",
   "execution_count": 9,
   "id": "c445c141-665e-42ab-9c64-2d261227eda6",
   "metadata": {},
   "outputs": [],
   "source": [
    "model = GPT(config)"
   ]
  },
  {
   "cell_type": "code",
   "execution_count": null,
   "id": "f88b9885-bc51-41de-8660-0851d18f3eeb",
   "metadata": {},
   "outputs": [],
   "source": []
  }
 ],
 "metadata": {
  "kernelspec": {
   "display_name": "mujoco_py",
   "language": "python",
   "name": "mujoco_py"
  },
  "language_info": {
   "codemirror_mode": {
    "name": "ipython",
    "version": 3
   },
   "file_extension": ".py",
   "mimetype": "text/x-python",
   "name": "python",
   "nbconvert_exporter": "python",
   "pygments_lexer": "ipython3",
   "version": "3.8.13"
  }
 },
 "nbformat": 4,
 "nbformat_minor": 5
}
